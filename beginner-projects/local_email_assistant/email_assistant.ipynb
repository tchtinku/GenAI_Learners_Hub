{
 "cells": [
  {
   "cell_type": "code",
   "execution_count": null,
   "id": "6b705855",
   "metadata": {
    "vscode": {
     "languageId": "plaintext"
    }
   },
   "outputs": [],
   "source": [
    "!pip install -q gradio\n",
    "\n",
    "import gradio as gr\n",
    "import zipfile\n",
    "import os\n",
    "import email\n",
    "from email import policy\n",
    "from email.parser import BytesParser\n",
    "import traceback"
   ]
  },
  {
   "cell_type": "code",
   "execution_count": null,
   "metadata": {
    "vscode": {
     "languageId": "plaintext"
    }
   },
   "outputs": [],
   "source": [
    "def parse_email(file_path):\n",
    "    \"\"\"\n",
    "    Parse a .eml file path.\n",
    "    Return dict: subject, sender, body, extracted tasks.\n",
    "    \"\"\"\n",
    "    with open(file_path, 'rb') as fp:\n",
    "        msg = BytesParser(policy=policy.default).parse(fp)\n",
    "\n",
    "    subject = msg['subject'] or \"No Subject\"\n",
    "    sender = msg['from'] or \"Unknown Sender\"\n",
    "    body = msg.get_body(preferencelist=('plain'))\n",
    "    body_text = body.get_content() if body else \"No content\"\n",
    "\n",
    "    # Dummy NLP: tasks = lines starting with \"-\"\n",
    "    tasks = [line.strip() for line in body_text.splitlines() if line.strip().startswith(\"-\")]\n",
    "\n",
    "    return {\n",
    "        \"filename\": os.path.basename(file_path),\n",
    "        \"subject\": subject,\n",
    "        \"from\": sender,\n",
    "        \"body\": body_text,\n",
    "        \"tasks\": tasks\n",
    "    }"
   ]
  },
  {
   "cell_type": "code",
   "execution_count": null,
   "id": "910dcae5",
   "metadata": {
    "vscode": {
     "languageId": "plaintext"
    }
   },
   "outputs": [],
   "source": [
    "def create_reply_draft(email_info):\n",
    "    \"\"\"\n",
    "    Given parsed email info, make a reply draft text.\n",
    "    \"\"\"\n",
    "    reply = f\"Subject: Re: {email_info['subject']}\\n\\nHi,\\n\\n\"\n",
    "    if email_info['tasks']:\n",
    "        reply += \"Here is a summary of tasks:\\n\"\n",
    "        for i, task in enumerate(email_info['tasks'], 1):\n",
    "            reply += f\"{i}. {task}\\n\"\n",
    "    else:\n",
    "        reply += \"Could you clarify next steps?\\n\"\n",
    "    reply += \"\\nBest regards,\"\n",
    "    return reply"
   ]
  },
  {
   "cell_type": "code",
   "execution_count": null,
   "id": "b036fd0e",
   "metadata": {
    "vscode": {
     "languageId": "plaintext"
    }
   },
   "outputs": [],
   "source": [
    "def create_drafts_zip(drafts, zip_path=\"/content/email_drafts.zip\"):\n",
    "    \"\"\"\n",
    "    drafts: list of (filename, content)\n",
    "    Write to ZIP and return path.\n",
    "    \"\"\"\n",
    "    with zipfile.ZipFile(zip_path, \"w\") as z:\n",
    "        for name, content in drafts:\n",
    "            z.writestr(name, content)\n",
    "    return zip_path"
   ]
  },
  {
   "cell_type": "code",
   "execution_count": null,
   "id": "24eb0468",
   "metadata": {
    "vscode": {
     "languageId": "plaintext"
    }
   },
   "outputs": [],
   "source": [
    "def process_emails(file_paths):\n",
    "    try:\n",
    "        results = []\n",
    "        drafts = []\n",
    "\n",
    "        for path in file_paths:\n",
    "            info = parse_email(path)\n",
    "            results.append(info)\n",
    "\n",
    "            draft_content = create_reply_draft(info)\n",
    "            draft_name = f\"{info['filename']}_reply.txt\"\n",
    "            drafts.append( (draft_name, draft_content) )\n",
    "\n",
    "        # Make ZIP\n",
    "        zip_path = create_drafts_zip(drafts)\n",
    "\n",
    "        # Pretty HTML\n",
    "        html = \"<h2>📧 Processed Emails:</h2>\"\n",
    "        for info in results:\n",
    "            html += f\"<h3>{info['filename']}</h3>\"\n",
    "            html += f\"<b>Subject:</b> {info['subject']}<br>\"\n",
    "            html += f\"<b>From:</b> {info['from']}<br>\"\n",
    "            html += f\"<b>Tasks:</b> {len(info['tasks'])}<ul>\"\n",
    "            for t in info['tasks']:\n",
    "                html += f\"<li>{t}</li>\"\n",
    "            html += \"</ul>\"\n",
    "\n",
    "        return html, zip_path\n",
    "\n",
    "    except Exception as e:\n",
    "        print(\"\\n🔴 FULL TRACEBACK:\")\n",
    "        traceback.print_exc()\n",
    "        raise"
   ]
  },
  {
   "cell_type": "code",
   "execution_count": null,
   "id": "732be622",
   "metadata": {
    "vscode": {
     "languageId": "plaintext"
    }
   },
   "outputs": [],
   "source": [
    "with gr.Blocks() as demo:\n",
    "    gr.Markdown(\"# 📬 **DocAgent Email Processor**\\nUpload .eml files → See tasks → Download drafts ZIP\")\n",
    "\n",
    "    files_input = gr.Files(label=\"Upload .eml files\")\n",
    "    process_btn = gr.Button(\"📑 Process Emails & Make ZIP\")\n",
    "\n",
    "    html_out = gr.HTML()\n",
    "    zip_out = gr.File(label=\"Download All Drafts (ZIP)\")\n",
    "\n",
    "    process_btn.click(\n",
    "        process_emails,\n",
    "        inputs=files_input,\n",
    "        outputs=[html_out, zip_out]\n",
    "    )\n",
    "\n",
    "demo.launch(share=True, debug=True)"
   ]
  }
 ],
 "metadata": {
  "language_info": {
   "name": "python"
  }
 },
 "nbformat": 4,
 "nbformat_minor": 5
}
